{
  "cells": [
    {
      "cell_type": "markdown",
      "metadata": {
        "id": "AmaepfXWrmhS"
      },
      "source": [
        "# Hands-on with Kafka\n",
        "\n",
        "![kafka](https://images.contentful.com/gt6dp23g0g38/53UO4964r0e7kRVm0mcUUZ/f6f6d7b1b90e8e88a5be0d1845bdf950/what_is_kafka_and_how_does_it_work.png)"
      ]
    },
    {
      "cell_type": "markdown",
      "metadata": {
        "id": "iqStb2uJsJtT"
      },
      "source": [
        "## Installing Kafka Python Client\n",
        "\n",
        "First, we'll need to install Kafka Python client `kafka-python` to consume messages from a Kafka cluster."
      ]
    },
    {
      "cell_type": "code",
      "execution_count": 1,
      "metadata": {
        "id": "ysZG-SJvCPYu"
      },
      "outputs": [],
      "source": [
        "import json\n",
        "from kafka import KafkaConsumer, TopicPartition"
      ]
    },
    {
      "cell_type": "markdown",
      "metadata": {
        "id": "PX1XqpfTFmdQ"
      },
      "source": [
        "First, we'll instantiate the consumer.\n",
        "\n",
        "Our data was serialized in JSON during publishing, hence we'll need to deserialize as JSON when consuming. In actual production, it is recommended to use the binary format that we've learnt, such as Avro."
      ]
    },
    {
      "cell_type": "code",
      "execution_count": 2,
      "metadata": {
        "colab": {
          "base_uri": "https://localhost:8080/",
          "height": 426
        },
        "id": "LK1ul8ttlTmB",
        "outputId": "bae3da22-c7b0-4081-b952-481e30cca94f"
      },
      "outputs": [],
      "source": [
        "consumer = KafkaConsumer(\n",
        "  bootstrap_servers=['localhost:9092'],\n",
        "  auto_offset_reset='earliest',\n",
        "  value_deserializer = lambda v: json.loads(v.decode('ascii')),\n",
        "  key_deserializer = lambda v: json.loads(v.decode('ascii')),\n",
        ")"
      ]
    },
    {
      "cell_type": "markdown",
      "metadata": {
        "id": "SZio6JesCq4L"
      },
      "source": [
        "We set the offset for the consumer to be `earliest` to get the earliest order (message).\n",
        "\n",
        "List the available topics:"
      ]
    },
    {
      "cell_type": "code",
      "execution_count": 3,
      "metadata": {
        "colab": {
          "base_uri": "https://localhost:8080/"
        },
        "id": "mH0-H-4JCiyA",
        "outputId": "205db65d-3b90-4014-edba-e0aa9b276def"
      },
      "outputs": [
        {
          "data": {
            "text/plain": [
              "{'pizza-orders'}"
            ]
          },
          "execution_count": 3,
          "metadata": {},
          "output_type": "execute_result"
        }
      ],
      "source": [
        "consumer.topics()"
      ]
    },
    {
      "cell_type": "markdown",
      "metadata": {
        "id": "Eor4U3v8BZhM"
      },
      "source": [
        "Let's assume we are the owners of a pizza delivery chain, and we'd like to push the orders to Apache Kafka as they come in.\n",
        "\n",
        "We have a topic consisting of pizza orders, which contains the Order ID, Order Details (pizzas and toppings), client's Name, Address, Phone Number, the Shop Name, Total Cost and Timestamp.\n",
        "\n",
        "There is only one partition for the topic. First, let's subscribe to the topic:"
      ]
    },
    {
      "cell_type": "code",
      "execution_count": 4,
      "metadata": {
        "id": "b4JPxoO6BmYb"
      },
      "outputs": [],
      "source": [
        "topic_name = \"pizza-orders\""
      ]
    },
    {
      "cell_type": "code",
      "execution_count": 5,
      "metadata": {
        "colab": {
          "base_uri": "https://localhost:8080/"
        },
        "id": "XOuBHK9SBY2B",
        "outputId": "ac78f0c5-6eff-4a71-9801-174da90402ce"
      },
      "outputs": [
        {
          "data": {
            "text/plain": [
              "{'pizza-orders'}"
            ]
          },
          "execution_count": 5,
          "metadata": {},
          "output_type": "execute_result"
        }
      ],
      "source": [
        "consumer.subscribe(topics=[topic_name])\n",
        "consumer.subscription()"
      ]
    },
    {
      "cell_type": "markdown",
      "metadata": {
        "id": "P8wu1bTaCHnM"
      },
      "source": [
        "We can then start reading the events, let's read and (pretty) print the first 5:"
      ]
    },
    {
      "cell_type": "code",
      "execution_count": 6,
      "metadata": {
        "id": "RT5cfz0uCwGD"
      },
      "outputs": [],
      "source": [
        "from pprint import pprint"
      ]
    },
    {
      "cell_type": "code",
      "execution_count": 19,
      "metadata": {
        "colab": {
          "base_uri": "https://localhost:8080/"
        },
        "id": "4m4A07AOyl8P",
        "outputId": "b81593c3-c647-4df6-f70b-310c2d52dcb3"
      },
      "outputs": [
        {
          "name": "stdout",
          "output_type": "stream",
          "text": [
            "0:0: k={'shop': 'Marios Pizza'}\n",
            "'-------------------'\n",
            "{'address': '21087 Calvin Plains\\nJonesland, NY 76392',\n",
            " 'cost': 35.65,\n",
            " 'id': 1,\n",
            " 'name': 'Jessica Smith',\n",
            " 'phoneNumber': '001-701-915-3000',\n",
            " 'pizzas': [{'additionalToppings': ['🥚 egg', '🍍 pineapple'],\n",
            "             'pizzaName': 'Marinara'},\n",
            "            {'additionalToppings': [], 'pizzaName': 'Margherita'}],\n",
            " 'shop': 'Marios Pizza',\n",
            " 'timestamp': 1742305285331}\n",
            "\n",
            "0:1: k={'shop': 'Marios Pizza'}\n",
            "'-------------------'\n",
            "{'address': '19721 Drew Key\\nNew Donaldport, NH 05690',\n",
            " 'cost': 47.92,\n",
            " 'id': 2,\n",
            " 'name': 'Roger Brown',\n",
            " 'phoneNumber': '475-943-3780x8105',\n",
            " 'pizzas': [{'additionalToppings': ['🌶️ hot pepper'], 'pizzaName': 'Marinara'},\n",
            "            {'additionalToppings': ['🐟 tuna', '🫑 green peppers'],\n",
            "             'pizzaName': 'Salami'},\n",
            "            {'additionalToppings': ['🌶️ hot pepper'], 'pizzaName': 'Salami'},\n",
            "            {'additionalToppings': ['🐟 tuna', '🧀 blue cheese'],\n",
            "             'pizzaName': 'Margherita'}],\n",
            " 'shop': 'Marios Pizza',\n",
            " 'timestamp': 1742305287337}\n",
            "\n",
            "0:2: k={'shop': 'Luigis Pizza'}\n",
            "'-------------------'\n",
            "{'address': '278 Phillips Crossing Apt. 661\\nPort Maryfurt, GU 86535',\n",
            " 'cost': 23.34,\n",
            " 'id': 3,\n",
            " 'name': 'Matthew Williams',\n",
            " 'phoneNumber': '924-927-0965x759',\n",
            " 'pizzas': [{'additionalToppings': ['🍅 tomato'], 'pizzaName': 'Margherita'},\n",
            "            {'additionalToppings': ['🧀 blue cheese', '🫒 olives'],\n",
            "             'pizzaName': 'Peperoni'}],\n",
            " 'shop': 'Luigis Pizza',\n",
            " 'timestamp': 1742305288346}\n",
            "\n",
            "0:3: k={'shop': 'Ill Make You a Pizza You Cant Refuse'}\n",
            "'-------------------'\n",
            "{'address': '547 Brenda Walks\\nLake Ronaldborough, CT 52490',\n",
            " 'cost': 26.65,\n",
            " 'id': 4,\n",
            " 'name': 'Corey Rodriguez',\n",
            " 'phoneNumber': '001-629-242-5711x630',\n",
            " 'pizzas': [{'additionalToppings': ['🫒 olives'], 'pizzaName': 'Margherita'},\n",
            "            {'additionalToppings': ['🐟 tuna', '🍍 pineapple'],\n",
            "             'pizzaName': 'Diavola'},\n",
            "            {'additionalToppings': [], 'pizzaName': 'Diavola'},\n",
            "            {'additionalToppings': [], 'pizzaName': 'Margherita'},\n",
            "            {'additionalToppings': [], 'pizzaName': 'Mari & Monti'}],\n",
            " 'shop': 'Ill Make You a Pizza You Cant Refuse',\n",
            " 'timestamp': 1742305290354}\n",
            "\n",
            "0:4: k={'shop': 'Luigis Pizza'}\n",
            "'-------------------'\n",
            "{'address': '752 Brandon Expressway Apt. 815\\nNorth Elizabeth, AR 84161',\n",
            " 'cost': 9.08,\n",
            " 'id': 5,\n",
            " 'name': 'Stephen Stevens',\n",
            " 'phoneNumber': '253.786.2934',\n",
            " 'pizzas': [{'additionalToppings': ['🐟 tuna'], 'pizzaName': 'Marinara'},\n",
            "            {'additionalToppings': [], 'pizzaName': 'Peperoni'}],\n",
            " 'shop': 'Luigis Pizza',\n",
            " 'timestamp': 1742305292360}\n",
            "\n"
          ]
        }
      ],
      "source": [
        "for ix, message in enumerate(consumer, start=1):\n",
        "    print(\"%d:%d: k=%s\" % (message.partition,\n",
        "                           message.offset,\n",
        "                           message.key))\n",
        "    pprint(\"-------------------\")\n",
        "    pprint(message.value)\n",
        "    print()\n",
        "    if ix == 5:\n",
        "        break"
      ]
    },
    {
      "cell_type": "markdown",
      "metadata": {
        "id": "JBQtiKVR1lgp"
      },
      "source": [
        "Now, continue printing the next 5 events, notice the offset number and order id:"
      ]
    },
    {
      "cell_type": "code",
      "execution_count": null,
      "metadata": {
        "colab": {
          "base_uri": "https://localhost:8080/"
        },
        "id": "p9ZPa9931hjw",
        "outputId": "4c840159-377d-4fa9-ff16-9ca42542249f"
      },
      "outputs": [
        {
          "name": "stdout",
          "output_type": "stream",
          "text": [
            "0:5: k={'shop': 'Mammamia Pizza'}\n",
            "{'address': '4874 Wright Lock\\nNorth Leonardton, AZ 12821',\n",
            " 'cost': 42.26,\n",
            " 'id': 6,\n",
            " 'name': 'Joseph Lowe',\n",
            " 'phoneNumber': '743.698.6156x6633',\n",
            " 'pizzas': [{'additionalToppings': ['🫒 olives'], 'pizzaName': 'Margherita'},\n",
            "            {'additionalToppings': ['🫑 green peppers'], 'pizzaName': 'Salami'},\n",
            "            {'additionalToppings': ['🫑 green peppers', '🍍 pineapple'],\n",
            "             'pizzaName': 'Peperoni'},\n",
            "            {'additionalToppings': ['🍓 strawberry'], 'pizzaName': 'Salami'},\n",
            "            {'additionalToppings': ['🫒 olives'], 'pizzaName': 'Marinara'}],\n",
            " 'shop': 'Mammamia Pizza',\n",
            " 'timestamp': 1696869300368}\n",
            "\n",
            "0:6: k={'shop': 'Luigis Pizza'}\n",
            "{'address': '9167 Thomas Mission Apt. 588\\nPort Sarahhaven, WI 31469',\n",
            " 'cost': 26.65,\n",
            " 'id': 7,\n",
            " 'name': 'Andrea Robbins',\n",
            " 'phoneNumber': '242.719.1159',\n",
            " 'pizzas': [{'additionalToppings': ['🧀 blue cheese'], 'pizzaName': 'Peperoni'},\n",
            "            {'additionalToppings': ['🍌 banana', '🍍 pineapple', '🍍 pineapple'],\n",
            "             'pizzaName': 'Mari & Monti'},\n",
            "            {'additionalToppings': ['🫑 green peppers'],\n",
            "             'pizzaName': 'Mari & Monti'}],\n",
            " 'shop': 'Luigis Pizza',\n",
            " 'timestamp': 1696869302371}\n",
            "\n",
            "0:7: k={'shop': 'Marios Pizza'}\n",
            "{'address': '562 Anthony Village Apt. 809\\nNorth Ronald, SD 61716',\n",
            " 'cost': 26.43,\n",
            " 'id': 8,\n",
            " 'name': 'Allison Reed',\n",
            " 'phoneNumber': '(803)702-3145',\n",
            " 'pizzas': [{'additionalToppings': ['🍓 strawberry'], 'pizzaName': 'Marinara'},\n",
            "            {'additionalToppings': ['🥓 bacon', '🧀 blue cheese'],\n",
            "             'pizzaName': 'Mari & Monti'},\n",
            "            {'additionalToppings': ['🥓 bacon', '🧄 garlic', '🥚 egg'],\n",
            "             'pizzaName': 'Diavola'}],\n",
            " 'shop': 'Marios Pizza',\n",
            " 'timestamp': 1696869303373}\n",
            "\n",
            "0:8: k={'shop': 'Marios Pizza'}\n",
            "{'address': '714 West Rest Apt. 183\\nHolderview, KS 15207',\n",
            " 'cost': 37.98,\n",
            " 'id': 9,\n",
            " 'name': 'Stephanie Riley',\n",
            " 'phoneNumber': '001-469-306-4599',\n",
            " 'pizzas': [{'additionalToppings': [], 'pizzaName': 'Salami'},\n",
            "            {'additionalToppings': ['🧀 blue cheese', '🍌 banana'],\n",
            "             'pizzaName': 'Diavola'},\n",
            "            {'additionalToppings': ['🥓 bacon', '🥚 egg', '🧀 blue cheese'],\n",
            "             'pizzaName': 'Marinara'}],\n",
            " 'shop': 'Marios Pizza',\n",
            " 'timestamp': 1696869305377}\n",
            "\n",
            "0:9: k={'shop': 'Marios Pizza'}\n",
            "{'address': '806 Anthony Canyon\\nMeghanview, SC 93127',\n",
            " 'cost': 42.94,\n",
            " 'id': 10,\n",
            " 'name': 'Stanley Jenkins',\n",
            " 'phoneNumber': '647-754-1719',\n",
            " 'pizzas': [{'additionalToppings': ['🥚 egg', '🍍 pineapple'],\n",
            "             'pizzaName': 'Margherita'},\n",
            "            {'additionalToppings': ['🍓 strawberry',\n",
            "                                    '🍅 tomato',\n",
            "                                    '🌶️ hot pepper'],\n",
            "             'pizzaName': 'Marinara'},\n",
            "            {'additionalToppings': ['🍍 pineapple'], 'pizzaName': 'Peperoni'},\n",
            "            {'additionalToppings': ['🍍 pineapple', '🫑 green peppers'],\n",
            "             'pizzaName': 'Marinara'}],\n",
            " 'shop': 'Marios Pizza',\n",
            " 'timestamp': 1696869307381}\n",
            "\n"
          ]
        }
      ],
      "source": [
        "for ix, message in enumerate(consumer, start=1):\n",
        "    print(\"%d:%d: k=%s\" % (message.partition,\n",
        "                           message.offset,\n",
        "                           message.key))\n",
        "    pprint(message.value)\n",
        "    print()\n",
        "    if ix == 5:\n",
        "        break"
      ]
    },
    {
      "cell_type": "code",
      "execution_count": 18,
      "metadata": {},
      "outputs": [],
      "source": [
        "# go to beginning \n",
        "consumer.seek_to_beginning()"
      ]
    },
    {
      "cell_type": "code",
      "execution_count": null,
      "metadata": {},
      "outputs": [],
      "source": [
        "# close consumer \n",
        "consumer.close()"
      ]
    },
    {
      "cell_type": "markdown",
      "metadata": {
        "id": "QdzmQrSv3Lwf"
      },
      "source": [
        "This is the full code to publish an example order:\n",
        "\n",
        "```python\n",
        "from kafka import KafkaProducer\n",
        "\n",
        "producer = KafkaProducer(\n",
        "  bootstrap_servers=['brave-fish-11463-us1-kafka.upstash.io:9092'],\n",
        "  sasl_mechanism='SCRAM-SHA-256',\n",
        "  security_protocol='SASL_SSL',\n",
        "  sasl_plain_username='YnJhdmUtZmlzaC0xMTQ2MyQSvwXBuLOQsV1W7YffuC8cDaZcA3fKQwakMhnQGgg',\n",
        "  sasl_plain_password='MDUxNjc4YzEtYzYxNy00NTE1LWEwNWYtMDBhODRlZmE0OGJm',\n",
        "  value_serializer=lambda v: json.dumps(v).encode('ascii'),\n",
        "  key_serializer=lambda v: json.dumps(v).encode('ascii')\n",
        ")\n",
        "\n",
        "message = {'address': '8697 Anthony Valley\\nPort Kellymouth, FL 64221',\n",
        " 'id': 10,\n",
        " 'name': 'Patricia Castaneda',\n",
        " 'phoneNumber': '328-798-9970x51560',\n",
        " 'pizzas': [{'additionalToppings': ['🍅 tomato'], 'pizzaName': 'Mari & Monti'}],\n",
        " 'shop': 'Mammamia Pizza',\n",
        " 'timestamp': 1696609343719}\n",
        "\n",
        "key = {'shop': 'Mammamia Pizza'}\n",
        "\n",
        "producer.send(topic_name, key=key, value=message)\n",
        "```"
      ]
    }
  ],
  "metadata": {
    "colab": {
      "provenance": []
    },
    "kernelspec": {
      "display_name": "kk",
      "language": "python",
      "name": "python3"
    },
    "language_info": {
      "codemirror_mode": {
        "name": "ipython",
        "version": 3
      },
      "file_extension": ".py",
      "mimetype": "text/x-python",
      "name": "python",
      "nbconvert_exporter": "python",
      "pygments_lexer": "ipython3",
      "version": "3.10.13"
    }
  },
  "nbformat": 4,
  "nbformat_minor": 0
}
